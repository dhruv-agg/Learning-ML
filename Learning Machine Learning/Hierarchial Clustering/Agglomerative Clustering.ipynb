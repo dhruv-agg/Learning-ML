{
 "cells": [
  {
   "cell_type": "code",
   "execution_count": 1,
   "metadata": {},
   "outputs": [],
   "source": [
    "import numpy as np\n",
    "import pandas as pd\n",
    "import matplotlib.pyplot as plt\n",
    "%matplotlib inline"
   ]
  },
  {
   "cell_type": "code",
   "execution_count": 2,
   "metadata": {},
   "outputs": [
    {
     "name": "stdout",
     "output_type": "stream",
     "text": [
      "Data imported\n"
     ]
    }
   ],
   "source": [
    "#import data\n",
    "df = pd.read_csv(\"Customers.csv\")\n",
    "print(\"Data imported\")"
   ]
  },
  {
   "cell_type": "code",
   "execution_count": 3,
   "metadata": {},
   "outputs": [
    {
     "data": {
      "text/html": [
       "<div>\n",
       "<style scoped>\n",
       "    .dataframe tbody tr th:only-of-type {\n",
       "        vertical-align: middle;\n",
       "    }\n",
       "\n",
       "    .dataframe tbody tr th {\n",
       "        vertical-align: top;\n",
       "    }\n",
       "\n",
       "    .dataframe thead th {\n",
       "        text-align: right;\n",
       "    }\n",
       "</style>\n",
       "<table border=\"1\" class=\"dataframe\">\n",
       "  <thead>\n",
       "    <tr style=\"text-align: right;\">\n",
       "      <th></th>\n",
       "      <th>CustomerID</th>\n",
       "      <th>Genre</th>\n",
       "      <th>Age</th>\n",
       "      <th>Annual Income (k$)</th>\n",
       "      <th>Spending Score (1-100)</th>\n",
       "    </tr>\n",
       "  </thead>\n",
       "  <tbody>\n",
       "    <tr>\n",
       "      <th>0</th>\n",
       "      <td>1</td>\n",
       "      <td>Male</td>\n",
       "      <td>19</td>\n",
       "      <td>15</td>\n",
       "      <td>39</td>\n",
       "    </tr>\n",
       "    <tr>\n",
       "      <th>1</th>\n",
       "      <td>2</td>\n",
       "      <td>Male</td>\n",
       "      <td>21</td>\n",
       "      <td>15</td>\n",
       "      <td>81</td>\n",
       "    </tr>\n",
       "    <tr>\n",
       "      <th>2</th>\n",
       "      <td>3</td>\n",
       "      <td>Female</td>\n",
       "      <td>20</td>\n",
       "      <td>16</td>\n",
       "      <td>6</td>\n",
       "    </tr>\n",
       "    <tr>\n",
       "      <th>3</th>\n",
       "      <td>4</td>\n",
       "      <td>Female</td>\n",
       "      <td>23</td>\n",
       "      <td>16</td>\n",
       "      <td>77</td>\n",
       "    </tr>\n",
       "    <tr>\n",
       "      <th>4</th>\n",
       "      <td>5</td>\n",
       "      <td>Female</td>\n",
       "      <td>31</td>\n",
       "      <td>17</td>\n",
       "      <td>40</td>\n",
       "    </tr>\n",
       "  </tbody>\n",
       "</table>\n",
       "</div>"
      ],
      "text/plain": [
       "   CustomerID   Genre  Age  Annual Income (k$)  Spending Score (1-100)\n",
       "0           1    Male   19                  15                      39\n",
       "1           2    Male   21                  15                      81\n",
       "2           3  Female   20                  16                       6\n",
       "3           4  Female   23                  16                      77\n",
       "4           5  Female   31                  17                      40"
      ]
     },
     "execution_count": 3,
     "metadata": {},
     "output_type": "execute_result"
    }
   ],
   "source": [
    "df.head()"
   ]
  },
  {
   "cell_type": "code",
   "execution_count": 4,
   "metadata": {},
   "outputs": [
    {
     "data": {
      "text/plain": [
       "(200, 2)"
      ]
     },
     "execution_count": 4,
     "metadata": {},
     "output_type": "execute_result"
    }
   ],
   "source": [
    "X = df.iloc[:,[3,4]].values\n",
    "X.shape"
   ]
  },
  {
   "cell_type": "code",
   "execution_count": 5,
   "metadata": {},
   "outputs": [],
   "source": [
    "#creating a dendogram\n",
    "import scipy.cluster.hierarchy as sch"
   ]
  },
  {
   "cell_type": "code",
   "execution_count": 7,
   "metadata": {},
   "outputs": [
    {
     "data": {
      "image/png": "[encoded data removed]",
      "text/plain": [
       "<Figure size 1440x720 with 1 Axes>"
      ]
     },
     "metadata": {},
     "output_type": "display_data"
    }
   ],
   "source": [
    "plt.figure(figsize = (20,10))\n",
    "dendogram = sch.dendrogram(sch.linkage(X,method = 'ward'))\n",
    "plt.title(\"Dendogram\")\n",
    "plt.xlabel(\"Customers\")\n",
    "plt.ylabel(\"Euclidean Distance\")\n",
    "plt.show()"
   ]
  },
  {
   "cell_type": "markdown",
   "metadata": {},
   "source": [
    "It gives **3** clusters"
   ]
  },
  {
   "cell_type": "markdown",
   "metadata": {},
   "source": [
    "#### Creating clusters using Agglomerative Clustering "
   ]
  },
  {
   "cell_type": "code",
   "execution_count": 8,
   "metadata": {},
   "outputs": [],
   "source": [
    "from sklearn.cluster import AgglomerativeClustering"
   ]
  },
  {
   "cell_type": "code",
   "execution_count": 9,
   "metadata": {},
   "outputs": [
    {
     "name": "stdout",
     "output_type": "stream",
     "text": [
      "Help on AgglomerativeClustering in module sklearn.cluster.hierarchical object:\n",
      "\n",
      "class AgglomerativeClustering(sklearn.base.BaseEstimator, sklearn.base.ClusterMixin)\n",
      " |  Agglomerative Clustering\n",
      " |  \n",
      " |  Recursively merges the pair of clusters that minimally increases\n",
      " |  a given linkage distance.\n",
      " |  \n",
      " |  Read more in the :ref:`User Guide <hierarchical_clustering>`.\n",
      " |  \n",
      " |  Parameters\n",
      " |  ----------\n",
      " |  n_clusters : int, default=2\n",
      " |      The number of clusters to find.\n",
      " |  \n",
      " |  affinity : string or callable, default: \"euclidean\"\n",
      " |      Metric used to compute the linkage. Can be \"euclidean\", \"l1\", \"l2\",\n",
      " |      \"manhattan\", \"cosine\", or 'precomputed'.\n",
      " |      If linkage is \"ward\", only \"euclidean\" is accepted.\n",
      " |  \n",
      " |  memory : None, str or object with the joblib.Memory interface, optional\n",
      " |      Used to cache the output of the computation of the tree.\n",
      " |      By default, no caching is done. If a string is given, it is the\n",
      " |      path to the caching directory.\n",
      " |  \n",
      " |  connectivity : array-like or callable, optional\n",
      " |      Connectivity matrix. Defines for each sample the neighboring\n",
      " |      samples following a given structure of the data.\n",
      " |      This can be a connectivity matrix itself or a callable that transforms\n",
      " |      the data into a connectivity matrix, such as derived from\n",
      " |      kneighbors_graph. Default is None, i.e, the\n",
      " |      hierarchical clustering algorithm is unstructured.\n",
      " |  \n",
      " |  compute_full_tree : bool or 'auto' (optional)\n",
      " |      Stop early the construction of the tree at n_clusters. This is\n",
      " |      useful to decrease computation time if the number of clusters is\n",
      " |      not small compared to the number of samples. This option is\n",
      " |      useful only when specifying a connectivity matrix. Note also that\n",
      " |      when varying the number of clusters and using caching, it may\n",
      " |      be advantageous to compute the full tree.\n",
      " |  \n",
      " |  linkage : {\"ward\", \"complete\", \"average\", \"single\"}, optional             (default=\"ward\")\n",
      " |      Which linkage criterion to use. The linkage criterion determines which\n",
      " |      distance to use between sets of observation. The algorithm will merge\n",
      " |      the pairs of cluster that minimize this criterion.\n",
      " |  \n",
      " |      - ward minimizes the variance of the clusters being merged.\n",
      " |      - average uses the average of the distances of each observation of\n",
      " |        the two sets.\n",
      " |      - complete or maximum linkage uses the maximum distances between\n",
      " |        all observations of the two sets.\n",
      " |      - single uses the minimum of the distances between all observations\n",
      " |        of the two sets.\n",
      " |  \n",
      " |  pooling_func : callable, default='deprecated'\n",
      " |      Ignored.\n",
      " |  \n",
      " |      .. deprecated:: 0.20\n",
      " |          ``pooling_func`` has been deprecated in 0.20 and will be removed\n",
      " |          in 0.22.\n",
      " |  \n",
      " |  Attributes\n",
      " |  ----------\n",
      " |  labels_ : array [n_samples]\n",
      " |      cluster labels for each point\n",
      " |  \n",
      " |  n_leaves_ : int\n",
      " |      Number of leaves in the hierarchical tree.\n",
      " |  \n",
      " |  n_components_ : int\n",
      " |      The estimated number of connected components in the graph.\n",
      " |  \n",
      " |  children_ : array-like, shape (n_samples-1, 2)\n",
      " |      The children of each non-leaf node. Values less than `n_samples`\n",
      " |      correspond to leaves of the tree which are the original samples.\n",
      " |      A node `i` greater than or equal to `n_samples` is a non-leaf\n",
      " |      node and has children `children_[i - n_samples]`. Alternatively\n",
      " |      at the i-th iteration, children[i][0] and children[i][1]\n",
      " |      are merged to form node `n_samples + i`\n",
      " |  \n",
      " |  Examples\n",
      " |  --------\n",
      " |  >>> from sklearn.cluster import AgglomerativeClustering\n",
      " |  >>> import numpy as np\n",
      " |  >>> X = np.array([[1, 2], [1, 4], [1, 0],\n",
      " |  ...               [4, 2], [4, 4], [4, 0]])\n",
      " |  >>> clustering = AgglomerativeClustering().fit(X)\n",
      " |  >>> clustering # doctest: +NORMALIZE_WHITESPACE\n",
      " |  AgglomerativeClustering(affinity='euclidean', compute_full_tree='auto',\n",
      " |              connectivity=None, linkage='ward', memory=None, n_clusters=2,\n",
      " |              pooling_func='deprecated')\n",
      " |  >>> clustering.labels_\n",
      " |  array([1, 1, 1, 0, 0, 0])\n",
      " |  \n",
      " |  Method resolution order:\n",
      " |      AgglomerativeClustering\n",
      " |      sklearn.base.BaseEstimator\n",
      " |      sklearn.base.ClusterMixin\n",
      " |      builtins.object\n",
      " |  \n",
      " |  Methods defined here:\n",
      " |  \n",
      " |  __init__(self, n_clusters=2, affinity='euclidean', memory=None, connectivity=None, compute_full_tree='auto', linkage='ward', pooling_func='deprecated')\n",
      " |      Initialize self.  See help(type(self)) for accurate signature.\n",
      " |  \n",
      " |  fit(self, X, y=None)\n",
      " |      Fit the hierarchical clustering on the data\n",
      " |      \n",
      " |      Parameters\n",
      " |      ----------\n",
      " |      X : array-like, shape = [n_samples, n_features]\n",
      " |          Training data. Shape [n_samples, n_features], or [n_samples,\n",
      " |          n_samples] if affinity=='precomputed'.\n",
      " |      \n",
      " |      y : Ignored\n",
      " |      \n",
      " |      Returns\n",
      " |      -------\n",
      " |      self\n",
      " |  \n",
      " |  ----------------------------------------------------------------------\n",
      " |  Methods inherited from sklearn.base.BaseEstimator:\n",
      " |  \n",
      " |  __getstate__(self)\n",
      " |  \n",
      " |  __repr__(self)\n",
      " |      Return repr(self).\n",
      " |  \n",
      " |  __setstate__(self, state)\n",
      " |  \n",
      " |  get_params(self, deep=True)\n",
      " |      Get parameters for this estimator.\n",
      " |      \n",
      " |      Parameters\n",
      " |      ----------\n",
      " |      deep : boolean, optional\n",
      " |          If True, will return the parameters for this estimator and\n",
      " |          contained subobjects that are estimators.\n",
      " |      \n",
      " |      Returns\n",
      " |      -------\n",
      " |      params : mapping of string to any\n",
      " |          Parameter names mapped to their values.\n",
      " |  \n",
      " |  set_params(self, **params)\n",
      " |      Set the parameters of this estimator.\n",
      " |      \n",
      " |      The method works on simple estimators as well as on nested objects\n",
      " |      (such as pipelines). The latter have parameters of the form\n",
      " |      ``<component>__<parameter>`` so that it's possible to update each\n",
      " |      component of a nested object.\n",
      " |      \n",
      " |      Returns\n",
      " |      -------\n",
      " |      self\n",
      " |  \n",
      " |  ----------------------------------------------------------------------\n",
      " |  Data descriptors inherited from sklearn.base.BaseEstimator:\n",
      " |  \n",
      " |  __dict__\n",
      " |      dictionary for instance variables (if defined)\n",
      " |  \n",
      " |  __weakref__\n",
      " |      list of weak references to the object (if defined)\n",
      " |  \n",
      " |  ----------------------------------------------------------------------\n",
      " |  Methods inherited from sklearn.base.ClusterMixin:\n",
      " |  \n",
      " |  fit_predict(self, X, y=None)\n",
      " |      Performs clustering on X and returns cluster labels.\n",
      " |      \n",
      " |      Parameters\n",
      " |      ----------\n",
      " |      X : ndarray, shape (n_samples, n_features)\n",
      " |          Input data.\n",
      " |      \n",
      " |      y : Ignored\n",
      " |          not used, present for API consistency by convention.\n",
      " |      \n",
      " |      Returns\n",
      " |      -------\n",
      " |      labels : ndarray, shape (n_samples,)\n",
      " |          cluster labels\n",
      "\n"
     ]
    }
   ],
   "source": [
    "help(AgglomerativeClustering())"
   ]
  },
  {
   "cell_type": "markdown",
   "metadata": {},
   "source": [
    "no. of clusters = **5** \n",
    "you'll realise with hit-trial"
   ]
  },
  {
   "cell_type": "code",
   "execution_count": 17,
   "metadata": {},
   "outputs": [],
   "source": [
    "#we'll use n_clusters, affinity & linkage\n",
    "agc = AgglomerativeClustering(n_clusters=5, affinity='euclidean', linkage= 'ward')\n",
    "y_pred = agc.fit_predict(X)"
   ]
  },
  {
   "cell_type": "code",
   "execution_count": 19,
   "metadata": {},
   "outputs": [
    {
     "data": {
      "image/png": "[encoded data removed]",
      "text/plain": [
       "<Figure size 1440x720 with 1 Axes>"
      ]
     },
     "metadata": {},
     "output_type": "display_data"
    }
   ],
   "source": [
    "#Visualise clusters\n",
    "plt.figure(figsize = (20,10))\n",
    "plt.scatter(X[y_pred==0,0],X[y_pred==0,1], s = 100, c = 'red', label = 'Cluster1')\n",
    "plt.scatter(X[y_pred==1,0],X[y_pred==1,1], s = 100, c = 'green', label = 'Cluster2')\n",
    "plt.scatter(X[y_pred==2,0],X[y_pred==2,1], s = 100, c = 'blue', label = 'Cluster3')\n",
    "plt.scatter(X[y_pred==3,0],X[y_pred==3,1], s = 100, c = 'black', label = 'Cluster4')\n",
    "plt.scatter(X[y_pred==4,0],X[y_pred==4,1], s = 100, c = 'brown', label = 'Cluster5')\n",
    "\n",
    "\n",
    "plt.legend()\n",
    "plt.xlabel(\"Annual Income(K$)\")\n",
    "plt.ylabel(\"Spending Score (1-100)\")\n",
    "plt.title(\"Customer Clusters\")\n",
    "plt.show()"
   ]
  }
 ],
 "metadata": {
  "kernelspec": {
   "display_name": "Python 3",
   "language": "python",
   "name": "python3"
  },
  "language_info": {
   "codemirror_mode": {
    "name": "ipython",
    "version": 3
   },
   "file_extension": ".py",
   "mimetype": "text/x-python",
   "name": "python",
   "nbconvert_exporter": "python",
   "pygments_lexer": "ipython3",
   "version": "3.6.4"
  }
 },
 "nbformat": 4,
 "nbformat_minor": 2
}
