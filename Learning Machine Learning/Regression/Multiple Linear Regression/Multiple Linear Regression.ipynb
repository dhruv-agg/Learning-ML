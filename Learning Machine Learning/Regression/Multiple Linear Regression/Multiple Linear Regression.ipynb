{
 "cells": [
  {
   "cell_type": "code",
   "execution_count": 1,
   "metadata": {},
   "outputs": [],
   "source": [
    "import numpy as np\n",
    "import pandas as pd\n",
    "import matplotlib.pyplot as plt\n",
    "%matplotlib inline"
   ]
  },
  {
   "cell_type": "code",
   "execution_count": 4,
   "metadata": {},
   "outputs": [
    {
     "name": "stdout",
     "output_type": "stream",
     "text": [
      "Data imported\n"
     ]
    }
   ],
   "source": [
    "#Read data\n",
    "df = pd.read_csv(\"salary matrix.csv\")\n",
    "print(\"Data imported\")"
   ]
  },
  {
   "cell_type": "code",
   "execution_count": 5,
   "metadata": {},
   "outputs": [
    {
     "data": {
      "text/html": [
       "<div>\n",
       "<style scoped>\n",
       "    .dataframe tbody tr th:only-of-type {\n",
       "        vertical-align: middle;\n",
       "    }\n",
       "\n",
       "    .dataframe tbody tr th {\n",
       "        vertical-align: top;\n",
       "    }\n",
       "\n",
       "    .dataframe thead th {\n",
       "        text-align: right;\n",
       "    }\n",
       "</style>\n",
       "<table border=\"1\" class=\"dataframe\">\n",
       "  <thead>\n",
       "    <tr style=\"text-align: right;\">\n",
       "      <th></th>\n",
       "      <th>Depatment</th>\n",
       "      <th>WorkedHours</th>\n",
       "      <th>Certification</th>\n",
       "      <th>YearsExperience</th>\n",
       "      <th>Salary</th>\n",
       "    </tr>\n",
       "  </thead>\n",
       "  <tbody>\n",
       "    <tr>\n",
       "      <th>0</th>\n",
       "      <td>Development</td>\n",
       "      <td>2300</td>\n",
       "      <td>0</td>\n",
       "      <td>1.1</td>\n",
       "      <td>39343</td>\n",
       "    </tr>\n",
       "    <tr>\n",
       "      <th>1</th>\n",
       "      <td>Testing</td>\n",
       "      <td>2100</td>\n",
       "      <td>1</td>\n",
       "      <td>1.3</td>\n",
       "      <td>46205</td>\n",
       "    </tr>\n",
       "    <tr>\n",
       "      <th>2</th>\n",
       "      <td>Development</td>\n",
       "      <td>2104</td>\n",
       "      <td>2</td>\n",
       "      <td>1.5</td>\n",
       "      <td>37731</td>\n",
       "    </tr>\n",
       "    <tr>\n",
       "      <th>3</th>\n",
       "      <td>UX Designer</td>\n",
       "      <td>1200</td>\n",
       "      <td>1</td>\n",
       "      <td>2.0</td>\n",
       "      <td>43525</td>\n",
       "    </tr>\n",
       "    <tr>\n",
       "      <th>4</th>\n",
       "      <td>Testing</td>\n",
       "      <td>1254</td>\n",
       "      <td>2</td>\n",
       "      <td>2.2</td>\n",
       "      <td>39891</td>\n",
       "    </tr>\n",
       "  </tbody>\n",
       "</table>\n",
       "</div>"
      ],
      "text/plain": [
       "     Depatment  WorkedHours  Certification  YearsExperience  Salary\n",
       "0  Development         2300              0              1.1   39343\n",
       "1      Testing         2100              1              1.3   46205\n",
       "2  Development         2104              2              1.5   37731\n",
       "3  UX Designer         1200              1              2.0   43525\n",
       "4      Testing         1254              2              2.2   39891"
      ]
     },
     "execution_count": 5,
     "metadata": {},
     "output_type": "execute_result"
    }
   ],
   "source": [
    "df.head()"
   ]
  },
  {
   "cell_type": "code",
   "execution_count": 11,
   "metadata": {},
   "outputs": [
    {
     "data": {
      "text/plain": [
       "(30, 5)"
      ]
     },
     "execution_count": 11,
     "metadata": {},
     "output_type": "execute_result"
    }
   ],
   "source": [
    "X= df.iloc[:,0:5].values\n",
    "#use this format for X. It creates a matrix rather than a series\n",
    "#matrix is good for appending as multiple columns are included\n",
    "X.shape"
   ]
  },
  {
   "cell_type": "code",
   "execution_count": 14,
   "metadata": {},
   "outputs": [
    {
     "data": {
      "text/plain": [
       "(30,)"
      ]
     },
     "execution_count": 14,
     "metadata": {},
     "output_type": "execute_result"
    }
   ],
   "source": [
    "y = df.iloc[:,4].values\n",
    "y.shape"
   ]
  },
  {
   "cell_type": "code",
   "execution_count": 16,
   "metadata": {},
   "outputs": [
    {
     "data": {
      "text/plain": [
       "array([0, 1, 0, 2, 1, 2, 0, 1, 2, 2, 1, 0, 0, 1, 2, 0, 1, 2, 0, 0, 1, 1,\n",
       "       2, 0, 2, 2, 1, 0, 1, 2], dtype=object)"
      ]
     },
     "execution_count": 16,
     "metadata": {},
     "output_type": "execute_result"
    }
   ],
   "source": [
    "#Encoding the categorical data\n",
    "\n",
    "##X has multiple columns with multiple categories. Use One-hot encoding\n",
    "from sklearn.preprocessing import LabelEncoder, OneHotEncoder\n",
    "labelencoder = LabelEncoder()\n",
    "X[:,0] = labelencoder.fit_transform(X[:,0])\n",
    "X[:,0]"
   ]
  },
  {
   "cell_type": "code",
   "execution_count": 17,
   "metadata": {
    "scrolled": true
   },
   "outputs": [
    {
     "data": {
      "text/plain": [
       "array([[1.00000e+00, 0.00000e+00, 0.00000e+00, 2.30000e+03, 0.00000e+00,\n",
       "        1.10000e+00, 3.93430e+04],\n",
       "       [0.00000e+00, 1.00000e+00, 0.00000e+00, 2.10000e+03, 1.00000e+00,\n",
       "        1.30000e+00, 4.62050e+04],\n",
       "       [1.00000e+00, 0.00000e+00, 0.00000e+00, 2.10400e+03, 2.00000e+00,\n",
       "        1.50000e+00, 3.77310e+04],\n",
       "       [0.00000e+00, 0.00000e+00, 1.00000e+00, 1.20000e+03, 1.00000e+00,\n",
       "        2.00000e+00, 4.35250e+04],\n",
       "       [0.00000e+00, 1.00000e+00, 0.00000e+00, 1.25400e+03, 2.00000e+00,\n",
       "        2.20000e+00, 3.98910e+04],\n",
       "       [0.00000e+00, 0.00000e+00, 1.00000e+00, 1.23600e+03, 1.00000e+00,\n",
       "        2.90000e+00, 5.66420e+04],\n",
       "       [1.00000e+00, 0.00000e+00, 0.00000e+00, 1.45200e+03, 2.00000e+00,\n",
       "        3.00000e+00, 6.01500e+04],\n",
       "       [0.00000e+00, 1.00000e+00, 0.00000e+00, 1.78900e+03, 1.00000e+00,\n",
       "        3.20000e+00, 5.44450e+04],\n",
       "       [0.00000e+00, 0.00000e+00, 1.00000e+00, 1.64500e+03, 1.00000e+00,\n",
       "        3.20000e+00, 6.44450e+04],\n",
       "       [0.00000e+00, 0.00000e+00, 1.00000e+00, 1.25800e+03, 0.00000e+00,\n",
       "        3.70000e+00, 5.71890e+04],\n",
       "       [0.00000e+00, 1.00000e+00, 0.00000e+00, 1.47800e+03, 3.00000e+00,\n",
       "        3.90000e+00, 6.32180e+04],\n",
       "       [1.00000e+00, 0.00000e+00, 0.00000e+00, 1.25700e+03, 2.00000e+00,\n",
       "        4.00000e+00, 5.57940e+04],\n",
       "       [1.00000e+00, 0.00000e+00, 0.00000e+00, 1.59600e+03, 1.00000e+00,\n",
       "        4.00000e+00, 5.69570e+04],\n",
       "       [0.00000e+00, 1.00000e+00, 0.00000e+00, 1.25600e+03, 2.00000e+00,\n",
       "        4.10000e+00, 5.70810e+04],\n",
       "       [0.00000e+00, 0.00000e+00, 1.00000e+00, 1.48900e+03, 3.00000e+00,\n",
       "        4.50000e+00, 6.11110e+04],\n",
       "       [1.00000e+00, 0.00000e+00, 0.00000e+00, 1.23600e+03, 3.00000e+00,\n",
       "        4.90000e+00, 6.79380e+04],\n",
       "       [0.00000e+00, 1.00000e+00, 0.00000e+00, 2.31100e+03, 2.00000e+00,\n",
       "        5.10000e+00, 6.60290e+04],\n",
       "       [0.00000e+00, 0.00000e+00, 1.00000e+00, 2.24500e+03, 3.00000e+00,\n",
       "        5.30000e+00, 8.30880e+04],\n",
       "       [1.00000e+00, 0.00000e+00, 0.00000e+00, 2.36500e+03, 1.00000e+00,\n",
       "        5.90000e+00, 8.13630e+04],\n",
       "       [1.00000e+00, 0.00000e+00, 0.00000e+00, 1.50000e+03, 3.00000e+00,\n",
       "        6.00000e+00, 9.39400e+04],\n",
       "       [0.00000e+00, 1.00000e+00, 0.00000e+00, 1.45600e+03, 2.00000e+00,\n",
       "        6.80000e+00, 9.17380e+04],\n",
       "       [0.00000e+00, 1.00000e+00, 0.00000e+00, 1.76000e+03, 1.00000e+00,\n",
       "        7.10000e+00, 9.82730e+04],\n",
       "       [0.00000e+00, 0.00000e+00, 1.00000e+00, 2.40000e+03, 4.00000e+00,\n",
       "        7.90000e+00, 1.01302e+05],\n",
       "       [1.00000e+00, 0.00000e+00, 0.00000e+00, 2.14800e+03, 3.00000e+00,\n",
       "        8.20000e+00, 1.13812e+05],\n",
       "       [0.00000e+00, 0.00000e+00, 1.00000e+00, 1.45000e+03, 2.00000e+00,\n",
       "        8.70000e+00, 1.09431e+05],\n",
       "       [0.00000e+00, 0.00000e+00, 1.00000e+00, 1.00000e+03, 4.00000e+00,\n",
       "        9.00000e+00, 1.05582e+05],\n",
       "       [0.00000e+00, 1.00000e+00, 0.00000e+00, 1.54000e+03, 3.00000e+00,\n",
       "        9.50000e+00, 1.16969e+05],\n",
       "       [1.00000e+00, 0.00000e+00, 0.00000e+00, 1.50000e+03, 2.00000e+00,\n",
       "        9.60000e+00, 1.12635e+05],\n",
       "       [0.00000e+00, 1.00000e+00, 0.00000e+00, 3.00000e+03, 4.00000e+00,\n",
       "        1.03000e+01, 1.22391e+05],\n",
       "       [0.00000e+00, 0.00000e+00, 1.00000e+00, 2.10000e+03, 3.00000e+00,\n",
       "        1.05000e+01, 1.21872e+05]])"
      ]
     },
     "execution_count": 17,
     "metadata": {},
     "output_type": "execute_result"
    }
   ],
   "source": [
    "onehotencoder = OneHotEncoder(categorical_features=[0])\n",
    "X = onehotencoder.fit_transform(X).toarray()\n",
    "X"
   ]
  },
  {
   "cell_type": "code",
   "execution_count": 19,
   "metadata": {
    "scrolled": true
   },
   "outputs": [
    {
     "data": {
      "text/plain": [
       "array([[0.00000e+00, 0.00000e+00, 2.30000e+03, 0.00000e+00, 1.10000e+00,\n",
       "        3.93430e+04],\n",
       "       [1.00000e+00, 0.00000e+00, 2.10000e+03, 1.00000e+00, 1.30000e+00,\n",
       "        4.62050e+04],\n",
       "       [0.00000e+00, 0.00000e+00, 2.10400e+03, 2.00000e+00, 1.50000e+00,\n",
       "        3.77310e+04],\n",
       "       [0.00000e+00, 1.00000e+00, 1.20000e+03, 1.00000e+00, 2.00000e+00,\n",
       "        4.35250e+04],\n",
       "       [1.00000e+00, 0.00000e+00, 1.25400e+03, 2.00000e+00, 2.20000e+00,\n",
       "        3.98910e+04],\n",
       "       [0.00000e+00, 1.00000e+00, 1.23600e+03, 1.00000e+00, 2.90000e+00,\n",
       "        5.66420e+04],\n",
       "       [0.00000e+00, 0.00000e+00, 1.45200e+03, 2.00000e+00, 3.00000e+00,\n",
       "        6.01500e+04],\n",
       "       [1.00000e+00, 0.00000e+00, 1.78900e+03, 1.00000e+00, 3.20000e+00,\n",
       "        5.44450e+04],\n",
       "       [0.00000e+00, 1.00000e+00, 1.64500e+03, 1.00000e+00, 3.20000e+00,\n",
       "        6.44450e+04],\n",
       "       [0.00000e+00, 1.00000e+00, 1.25800e+03, 0.00000e+00, 3.70000e+00,\n",
       "        5.71890e+04],\n",
       "       [1.00000e+00, 0.00000e+00, 1.47800e+03, 3.00000e+00, 3.90000e+00,\n",
       "        6.32180e+04],\n",
       "       [0.00000e+00, 0.00000e+00, 1.25700e+03, 2.00000e+00, 4.00000e+00,\n",
       "        5.57940e+04],\n",
       "       [0.00000e+00, 0.00000e+00, 1.59600e+03, 1.00000e+00, 4.00000e+00,\n",
       "        5.69570e+04],\n",
       "       [1.00000e+00, 0.00000e+00, 1.25600e+03, 2.00000e+00, 4.10000e+00,\n",
       "        5.70810e+04],\n",
       "       [0.00000e+00, 1.00000e+00, 1.48900e+03, 3.00000e+00, 4.50000e+00,\n",
       "        6.11110e+04],\n",
       "       [0.00000e+00, 0.00000e+00, 1.23600e+03, 3.00000e+00, 4.90000e+00,\n",
       "        6.79380e+04],\n",
       "       [1.00000e+00, 0.00000e+00, 2.31100e+03, 2.00000e+00, 5.10000e+00,\n",
       "        6.60290e+04],\n",
       "       [0.00000e+00, 1.00000e+00, 2.24500e+03, 3.00000e+00, 5.30000e+00,\n",
       "        8.30880e+04],\n",
       "       [0.00000e+00, 0.00000e+00, 2.36500e+03, 1.00000e+00, 5.90000e+00,\n",
       "        8.13630e+04],\n",
       "       [0.00000e+00, 0.00000e+00, 1.50000e+03, 3.00000e+00, 6.00000e+00,\n",
       "        9.39400e+04],\n",
       "       [1.00000e+00, 0.00000e+00, 1.45600e+03, 2.00000e+00, 6.80000e+00,\n",
       "        9.17380e+04],\n",
       "       [1.00000e+00, 0.00000e+00, 1.76000e+03, 1.00000e+00, 7.10000e+00,\n",
       "        9.82730e+04],\n",
       "       [0.00000e+00, 1.00000e+00, 2.40000e+03, 4.00000e+00, 7.90000e+00,\n",
       "        1.01302e+05],\n",
       "       [0.00000e+00, 0.00000e+00, 2.14800e+03, 3.00000e+00, 8.20000e+00,\n",
       "        1.13812e+05],\n",
       "       [0.00000e+00, 1.00000e+00, 1.45000e+03, 2.00000e+00, 8.70000e+00,\n",
       "        1.09431e+05],\n",
       "       [0.00000e+00, 1.00000e+00, 1.00000e+03, 4.00000e+00, 9.00000e+00,\n",
       "        1.05582e+05],\n",
       "       [1.00000e+00, 0.00000e+00, 1.54000e+03, 3.00000e+00, 9.50000e+00,\n",
       "        1.16969e+05],\n",
       "       [0.00000e+00, 0.00000e+00, 1.50000e+03, 2.00000e+00, 9.60000e+00,\n",
       "        1.12635e+05],\n",
       "       [1.00000e+00, 0.00000e+00, 3.00000e+03, 4.00000e+00, 1.03000e+01,\n",
       "        1.22391e+05],\n",
       "       [0.00000e+00, 1.00000e+00, 2.10000e+03, 3.00000e+00, 1.05000e+01,\n",
       "        1.21872e+05]])"
      ]
     },
     "execution_count": 19,
     "metadata": {},
     "output_type": "execute_result"
    }
   ],
   "source": [
    "#Avoiding dummy variable trap or the Multicollinearity\n",
    "X = X[:,1:]\n",
    "X"
   ]
  },
  {
   "cell_type": "code",
   "execution_count": 20,
   "metadata": {},
   "outputs": [],
   "source": [
    "#Splitting the df into training and test sets\n",
    "from sklearn.cross_validation import train_test_split\n",
    "X_train, X_test, y_train, y_test = train_test_split(X,y, test_size = 0.3, random_state = 0)"
   ]
  },
  {
   "cell_type": "code",
   "execution_count": 22,
   "metadata": {},
   "outputs": [
    {
     "data": {
      "text/plain": [
       "LinearRegression(copy_X=True, fit_intercept=True, n_jobs=1, normalize=False)"
      ]
     },
     "execution_count": 22,
     "metadata": {},
     "output_type": "execute_result"
    }
   ],
   "source": [
    "#Fitting Multiple Linear Regr model to training set\n",
    "\n",
    "from sklearn.linear_model import LinearRegression\n",
    "reg = LinearRegression() \n",
    "#No parameters are required for Linear Regr.\n",
    "\n",
    "reg.fit(X_train,y_train)"
   ]
  },
  {
   "cell_type": "code",
   "execution_count": 25,
   "metadata": {},
   "outputs": [
    {
     "data": {
      "text/plain": [
       "array([ 37731., 122391.,  57081.,  63218., 116969., 109431., 112635.,\n",
       "        55794.,  83088.])"
      ]
     },
     "execution_count": 25,
     "metadata": {},
     "output_type": "execute_result"
    }
   ],
   "source": [
    "#Predicting the Test set results\n",
    "y_pred = reg.predict(X_test)\n",
    "y_pred"
   ]
  },
  {
   "cell_type": "code",
   "execution_count": 28,
   "metadata": {},
   "outputs": [],
   "source": [
    "#Visulaising the results\n",
    "#plt.figure(figsize = (20,10))\n",
    "#plt.scatter(X,y) #Error\n",
    "#x and y must be the same size\n",
    "\n",
    "#plt.plot(X,y_pred)\n",
    "\n",
    "#ValueError: x and y must have same first dimension, but have shapes (30, 6) and (9,)"
   ]
  },
  {
   "cell_type": "markdown",
   "metadata": {},
   "source": [
    "#### R-squared or Coefficient of Determination"
   ]
  },
  {
   "cell_type": "code",
   "execution_count": 31,
   "metadata": {},
   "outputs": [
    {
     "name": "stdout",
     "output_type": "stream",
     "text": [
      "Multiple Regression R squared\": 1.0000\n",
      "So, in our model, 1.0000 of the variability in Y can be explained using X. That is really exciting.\n"
     ]
    }
   ],
   "source": [
    "from sklearn.metrics import accuracy_score\n",
    "print('Multiple Regression R squared\": %.4f' % reg.score(X_test, y_test))\n",
    "print(\"So, in our model, %.4f of the variability in Y can be explained using X. That is really exciting.\"% reg.score(X_test, y_test))"
   ]
  }
 ],
 "metadata": {
  "kernelspec": {
   "display_name": "Python 3",
   "language": "python",
   "name": "python3"
  },
  "language_info": {
   "codemirror_mode": {
    "name": "ipython",
    "version": 3
   },
   "file_extension": ".py",
   "mimetype": "text/x-python",
   "name": "python",
   "nbconvert_exporter": "python",
   "pygments_lexer": "ipython3",
   "version": "3.6.4"
  }
 },
 "nbformat": 4,
 "nbformat_minor": 2
}
