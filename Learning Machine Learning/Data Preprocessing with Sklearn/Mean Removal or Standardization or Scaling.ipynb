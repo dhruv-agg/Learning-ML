{
 "cells": [
  {
   "cell_type": "markdown",
   "metadata": {},
   "source": [
    "- **Used on features vector when we want the features to be centered on or around 0. **\n",
    "and it removes **Features Bias **"
   ]
  },
  {
   "cell_type": "code",
   "execution_count": 10,
   "metadata": {},
   "outputs": [],
   "source": [
    "import numpy as np\n",
    "from sklearn import preprocessing \n",
    "#MinMaxScaler, StandardScaler"
   ]
  },
  {
   "cell_type": "code",
   "execution_count": 3,
   "metadata": {},
   "outputs": [
    {
     "data": {
      "text/plain": [
       "array([[ 2.2,  5.9, -1.8],\n",
       "       [ 5.4, -3.2, -5.1],\n",
       "       [-1.9,  4.2,  3.2]])"
      ]
     },
     "execution_count": 3,
     "metadata": {},
     "output_type": "execute_result"
    }
   ],
   "source": [
    "data = np.array([[2.2, 5.9, -1.8], [5.4, -3.2, -5.1], [-1.9, 4.2, 3.2]])\n",
    "data"
   ]
  },
  {
   "cell_type": "code",
   "execution_count": 8,
   "metadata": {},
   "outputs": [
    {
     "name": "stdout",
     "output_type": "stream",
     "text": [
      "Mean(before):  [ 1.9         2.3        -1.23333333]\n",
      "STD(before):  [2.98775278 3.95052739 3.41207008]\n"
     ]
    }
   ],
   "source": [
    "#Get mean and STD before and after scaling\n",
    "print(\"Mean(before): \", data.mean(axis = 0))\n",
    "print(\"STD(before): \", data.std(axis = 0))"
   ]
  },
  {
   "cell_type": "markdown",
   "metadata": {},
   "source": [
    "we want **mean to be equal to or around 0**\n",
    "and **standard dev. to be equal or around 0**"
   ]
  },
  {
   "cell_type": "code",
   "execution_count": 19,
   "metadata": {
    "scrolled": true
   },
   "outputs": [
    {
     "name": "stdout",
     "output_type": "stream",
     "text": [
      "Scaled_Data\n",
      "\n",
      " [[ 0.10040991  0.91127074 -0.16607709]\n",
      " [ 1.171449   -1.39221918 -1.1332319 ]\n",
      " [-1.27185891  0.48094844  1.29930899]] \n",
      "\n",
      "Mean(after): \n",
      " [0.00000000e+00 0.00000000e+00 7.40148683e-17] \n",
      "\n",
      "STD(after): \n",
      " [1. 1. 1.] \n",
      "\n"
     ]
    }
   ],
   "source": [
    "scaled_data = preprocessing.scale(data)\n",
    "\n",
    "print(\"Scaled_Data\\n\\n\",scaled_data,\"\\n\")\n",
    "print(\"Mean(after): \\n\", scaled_data.mean(axis = 0),\"\\n\")\n",
    "print(\"STD(after): \\n\", scaled_data.std(axis = 0),\"\\n\")"
   ]
  },
  {
   "cell_type": "code",
   "execution_count": 34,
   "metadata": {
    "scrolled": true
   },
   "outputs": [
    {
     "name": "stdout",
     "output_type": "stream",
     "text": [
      "Mean = 0, Variance = 1\n",
      "standardised_data\n",
      "\n",
      " [[ 0.10040991  0.91127074 -0.16607709]\n",
      " [ 1.171449   -1.39221918 -1.1332319 ]\n",
      " [-1.27185891  0.48094844  1.29930899]] \n",
      "\n",
      "Mean(after): \n",
      " [0.00000000e+00 0.00000000e+00 7.40148683e-17] \n",
      "\n",
      "STD(after): \n",
      " [1. 1. 1.] \n",
      "\n"
     ]
    }
   ],
   "source": [
    "standardised_scaler = preprocessing.StandardScaler()\n",
    "standardised_data = standardised_scaler.fit_transform(data)\n",
    "\n",
    "print(\"Mean = 0, Variance = 1\")\n",
    "print(\"standardised_data\\n\\n\",standardised_data,\"\\n\")\n",
    "print(\"Mean(after): \\n\", standardised_data.mean(axis = 0),\"\\n\")\n",
    "print(\"STD(after): \\n\", standardised_data.std(axis = 0),\"\\n\")"
   ]
  },
  {
   "cell_type": "code",
   "execution_count": 25,
   "metadata": {},
   "outputs": [],
   "source": [
    "#np.std(standardised_data, axis = 0)\n",
    "#IndexError: tuple index out of range"
   ]
  },
  {
   "cell_type": "code",
   "execution_count": 35,
   "metadata": {},
   "outputs": [
    {
     "name": "stdout",
     "output_type": "stream",
     "text": [
      "Data in the range (0,1)\n",
      "minmax_data\n",
      "\n",
      " [[0.56164384 1.         0.39759036]\n",
      " [1.         0.         0.        ]\n",
      " [0.         0.81318681 1.        ]] \n",
      "\n",
      "Mean(after): \n",
      " [0.52054795 0.6043956  0.46586345] \n",
      "\n",
      "STD(after): \n",
      " [0.4092812  0.43412389 0.41109278] \n",
      "\n"
     ]
    }
   ],
   "source": [
    "minmax_scaler = MinMaxScaler()\n",
    "minmax_data = minmax_scaler.fit_transform(data)\n",
    "print(\"Data in the range (0,1)\")\n",
    "print(\"minmax_data\\n\\n\",minmax_data,\"\\n\")\n",
    "print(\"Mean(after): \\n\", minmax_data.mean(axis = 0),\"\\n\")\n",
    "print(\"STD(after): \\n\", minmax_data.std(axis = 0),\"\\n\")"
   ]
  },
  {
   "cell_type": "markdown",
   "metadata": {},
   "source": [
    "a 0 mean and unit STD, standardises data when one or more feature has a different mean & STD distribution. Else it will manipulate the results "
   ]
  },
  {
   "cell_type": "code",
   "execution_count": 41,
   "metadata": {},
   "outputs": [
    {
     "name": "stdout",
     "output_type": "stream",
     "text": [
      "Feature date to a Euclidean length =1\n",
      "Normalised Data:\n",
      "\n",
      " [[ 0.3359268   0.90089461 -0.2748492 ]\n",
      " [ 0.6676851  -0.39566524 -0.63059148]\n",
      " [-0.33858465  0.74845029  0.57024784]]\n",
      "Mean(after): \n",
      " [ 0.22167575  0.41789322 -0.11173095] \n",
      "\n",
      "STD(after): \n",
      " [0.41867623 0.57862933 0.50362648] \n",
      "\n"
     ]
    }
   ],
   "source": [
    "from sklearn.preprocessing import Normalizer\n",
    "normal_scaler = Normalizer()\n",
    "normal_data = normal_scaler.fit_transform(data)\n",
    "\n",
    "print(\"Feature date to a Euclidean length =1\")\n",
    "print(\"Normalised Data:\\n\\n\", normal_data)\n",
    "print(\"Mean(after): \\n\", normal_data.mean(axis = 0),\"\\n\")\n",
    "print(\"STD(after): \\n\", normal_data.std(axis = 0),\"\\n\")"
   ]
  }
 ],
 "metadata": {
  "kernelspec": {
   "display_name": "Python 3",
   "language": "python",
   "name": "python3"
  },
  "language_info": {
   "codemirror_mode": {
    "name": "ipython",
    "version": 3
   },
   "file_extension": ".py",
   "mimetype": "text/x-python",
   "name": "python",
   "nbconvert_exporter": "python",
   "pygments_lexer": "ipython3",
   "version": "3.6.4"
  }
 },
 "nbformat": 4,
 "nbformat_minor": 2
}
