{
 "cells": [
  {
   "cell_type": "code",
   "execution_count": 1,
   "metadata": {},
   "outputs": [],
   "source": [
    "import numpy as np\n",
    "from sklearn import preprocessing"
   ]
  },
  {
   "cell_type": "code",
   "execution_count": 2,
   "metadata": {},
   "outputs": [
    {
     "data": {
      "text/plain": [
       "array([[ 2.2,  5.9, -1.8],\n",
       "       [ 5.4, -3.2, -5.1],\n",
       "       [-1.9,  4.2,  3.2]])"
      ]
     },
     "execution_count": 2,
     "metadata": {},
     "output_type": "execute_result"
    }
   ],
   "source": [
    "data = np.array([[2.2, 5.9, -1.8], [5.4, -3.2, -5.1], [-1.9, 4.2, 3.2]])\n",
    "data"
   ]
  },
  {
   "cell_type": "markdown",
   "metadata": {},
   "source": [
    "**Bringing the values of each feature vector on a common scale**\n",
    "\n",
    "- **L1 - Least Absolute Deviations** - sum of absolute values (on each row) = 1; it is insensitive to outliers\n",
    "- **L2 - Least Squares** - sum of squares (on each row) = 1; takes outliers in consideration during training"
   ]
  },
  {
   "cell_type": "code",
   "execution_count": 5,
   "metadata": {},
   "outputs": [
    {
     "name": "stdout",
     "output_type": "stream",
     "text": [
      "data_l1\n",
      " [[ 0.22222222  0.5959596  -0.18181818]\n",
      " [ 0.39416058 -0.23357664 -0.37226277]\n",
      " [-0.20430108  0.4516129   0.34408602]]\n",
      "\n",
      "Sum of absolute values: 1.0\n"
     ]
    }
   ],
   "source": [
    "data_l1 = preprocessing.normalize(data, norm = 'l1')\n",
    "print(\"data_l1\\n\",data_l1)\n",
    "print(\"\\nSum of absolute values:\",(0.22222222+0.5959596+0.18181818))"
   ]
  },
  {
   "cell_type": "code",
   "execution_count": 7,
   "metadata": {},
   "outputs": [
    {
     "name": "stdout",
     "output_type": "stream",
     "text": [
      "\n",
      " data_l2\n",
      " [[ 0.3359268   0.90089461 -0.2748492 ]\n",
      " [ 0.6676851  -0.39566524 -0.63059148]\n",
      " [-0.33858465  0.74845029  0.57024784]]\n",
      "\n",
      "Sum of squares: 0.9999999960259321\n"
     ]
    }
   ],
   "source": [
    "data_l2 = preprocessing.normalize(data, norm = 'l2')\n",
    "print(\"\\n data_l2\\n\",data_l2)\n",
    "print(\"\\nSum of squares:\", (0.3359268**2 +0.90089461**2 + (-0.2748492)**2))"
   ]
  },
  {
   "cell_type": "markdown",
   "metadata": {},
   "source": [
    "#### Introducing outliers to check how normallisation really works!"
   ]
  },
  {
   "cell_type": "markdown",
   "metadata": {},
   "source": [
    "## L1 normalisation"
   ]
  },
  {
   "cell_type": "code",
   "execution_count": 10,
   "metadata": {},
   "outputs": [
    {
     "data": {
      "text/plain": [
       "array([[ 22.2,   5.9,  -1.8],\n",
       "       [  5.4, -33.2,  -5.1],\n",
       "       [ -1.9,  44.2,   3.2]])"
      ]
     },
     "execution_count": 10,
     "metadata": {},
     "output_type": "execute_result"
    }
   ],
   "source": [
    "data_outliers = np.array([[22.2, 5.9, -1.8], [5.4, -33.2, -5.1], [-1.9, 44.2, 3.2]])\n",
    "data_outliers"
   ]
  },
  {
   "cell_type": "code",
   "execution_count": 13,
   "metadata": {
    "scrolled": true
   },
   "outputs": [
    {
     "name": "stdout",
     "output_type": "stream",
     "text": [
      "data_outliers_l1\n",
      " [[ 0.74247492  0.19732441 -0.06020067]\n",
      " [ 0.12356979 -0.7597254  -0.11670481]\n",
      " [-0.03853955  0.89655172  0.06490872]]\n",
      "\n",
      "Data L1 without Outliers\n",
      " [[ 0.74247492  0.19732441 -0.06020067]\n",
      " [ 0.12356979 -0.7597254  -0.11670481]\n",
      " [-0.03853955  0.89655172  0.06490872]]\n"
     ]
    }
   ],
   "source": [
    "data_outliers_l1 = preprocessing.normalize(data_outliers, norm = 'l1')\n",
    "print(\"data_outliers_l1\\n\",data_outliers_l1)\n",
    "#print(\"\\nSum of absolute values:\",(0.22222222+0.5959596+0.18181818))\n",
    "print(\"\\nData L1 without Outliers\\n\",data_l1)"
   ]
  },
  {
   "cell_type": "markdown",
   "metadata": {},
   "source": [
    "### Insensitive to outliers"
   ]
  },
  {
   "cell_type": "code",
   "execution_count": 14,
   "metadata": {},
   "outputs": [
    {
     "data": {
      "text/plain": [
       "array([[ 22.2,   5.9,  -1.8],\n",
       "       [  5.4, -33.2,  -5.1],\n",
       "       [ -1.9,  44.2,   3.2]])"
      ]
     },
     "execution_count": 14,
     "metadata": {},
     "output_type": "execute_result"
    }
   ],
   "source": [
    "data_outliers = np.array([[22.2, 5.9, -1.8], [5.4, -33.2, -5.1], [-1.9, 44.2, 3.2]])\n",
    "data_outliers"
   ]
  },
  {
   "cell_type": "code",
   "execution_count": 17,
   "metadata": {
    "scrolled": true
   },
   "outputs": [
    {
     "name": "stdout",
     "output_type": "stream",
     "text": [
      "data_outliers_l2\n",
      " [[ 0.96349774  0.25606472 -0.07812144]\n",
      " [ 0.15872676 -0.97587562 -0.1499086 ]\n",
      " [-0.04283486  0.99647407  0.07214292]]\n",
      "\n",
      "Sum of squares: 0.9999999952014595\n",
      "\n",
      "Data L2 without Outliers\n",
      " [[ 0.3359268   0.90089461 -0.2748492 ]\n",
      " [ 0.6676851  -0.39566524 -0.63059148]\n",
      " [-0.33858465  0.74845029  0.57024784]]\n",
      "\n",
      "Sum of squares: 0.9999999960259321\n"
     ]
    }
   ],
   "source": [
    "data_outliers_l2 = preprocessing.normalize(data_outliers, norm = 'l2')\n",
    "print(\"data_outliers_l2\\n\",data_outliers_l2)\n",
    "print(\"\\nSum of squares:\", (0.96349774**2 + 0.25606472**2 + (-0.07812144)**2))\n",
    "\n",
    "print(\"\\nData L2 without Outliers\\n\",data_l2)\n",
    "print(\"\\nSum of squares:\", (0.3359268**2 +0.90089461**2 + (-0.2748492)**2))"
   ]
  },
  {
   "cell_type": "markdown",
   "metadata": {},
   "source": [
    "### Sensitive to outliers"
   ]
  }
 ],
 "metadata": {
  "kernelspec": {
   "display_name": "Python 3",
   "language": "python",
   "name": "python3"
  },
  "language_info": {
   "codemirror_mode": {
    "name": "ipython",
    "version": 3
   },
   "file_extension": ".py",
   "mimetype": "text/x-python",
   "name": "python",
   "nbconvert_exporter": "python",
   "pygments_lexer": "ipython3",
   "version": "3.6.4"
  }
 },
 "nbformat": 4,
 "nbformat_minor": 2
}
